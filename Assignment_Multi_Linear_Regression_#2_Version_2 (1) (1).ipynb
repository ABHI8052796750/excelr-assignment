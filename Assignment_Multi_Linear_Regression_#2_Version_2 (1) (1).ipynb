Q1    what is Multiple Linear Regression ?
Ans   A statistical method for finding a linear relationship between more than two variables
      Equation (y = b + m1x1 + m2x2 + ... + mnxn) main agenda is this regression apply on data set Predict the value of the dependent variable based on the values of multiple independent variables.
Q2   What’s the Difference Between Simple Linear Regression (SLR) and Multiple Linear Regression (MLR)?

Answer: Both SLR and MLR predict a dependent variable using one or more independent variables, but they differ significantly:
        SLR: Utilizes a single independent variable to predict the dependent variable mathematically.
        MLR: Extends SLR to include multiple independent variables, allowing us to model more complex relationships.

Q3   What are the assumptions of multiple linear regression?
Ans  Linear Relationship:
     MLR assumes that there exists a linear relationship between each predictor variable (independent variable) and the response variable (dependent variable).
     To check this assumption, create scatter plots of each predictor variable against the response variable. If the points roughly fall along a straight diagonal line, it indicates a linear relationship.

     No Multicollinearity:
     Multicollinearity occurs when predictor variables are highly correlated with each other.
     High multicollinearity can lead to unreliable coefficient estimates.

    Homoscedasticity:
    Homoscedasticity means that the residuals (differences between predicted and actual values) have constant variance across all levels of the predictor variables.


 

